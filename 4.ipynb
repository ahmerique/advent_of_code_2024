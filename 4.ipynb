{
 "cells": [
  {
   "cell_type": "code",
   "id": "initial_id",
   "metadata": {
    "collapsed": true,
    "ExecuteTime": {
     "end_time": "2024-12-14T09:33:27.805438Z",
     "start_time": "2024-12-14T09:33:27.786037Z"
    }
   },
   "source": "import re",
   "outputs": [],
   "execution_count": 1
  },
  {
   "metadata": {
    "ExecuteTime": {
     "end_time": "2024-12-14T10:18:16.748544Z",
     "start_time": "2024-12-14T10:18:16.709264Z"
    }
   },
   "cell_type": "code",
   "source": [
    "with open(\"4_input.txt\", \"r\") as f:\n",
    "    original = [list(tmp) for tmp in f.read().splitlines()]"
   ],
   "id": "eb1563d5fac8c4b7",
   "outputs": [],
   "execution_count": 80
  },
  {
   "metadata": {
    "ExecuteTime": {
     "end_time": "2024-12-14T10:18:16.918330Z",
     "start_time": "2024-12-14T10:18:16.856970Z"
    }
   },
   "cell_type": "code",
   "source": [
    "left_right = original\n",
    "right_left = [temp_str[::-1] for temp_str in original]\n",
    "\n",
    "top_down = []\n",
    "for j in range(len(original[0])):\n",
    "    temp = []\n",
    "    for i in range(len(original)):\n",
    "        temp.append(original[i][j])\n",
    "    top_down.append(temp)\n",
    "\n",
    "down_top = [tmp_list[::-1] for tmp_list in top_down]\n",
    "\n",
    "ul_dr = []\n",
    "for i in range(len(original)):\n",
    "    temp = []\n",
    "    add = 0\n",
    "    while i + add < len(original) and add < len(original[0]):\n",
    "        temp.append(original[i + add][add])\n",
    "        add += 1\n",
    "    ul_dr.append(temp)\n",
    "for j in range(1, len(original[0])):\n",
    "    temp = []\n",
    "    add = 0\n",
    "    while j + add < len(original) and add < len(original[0]):\n",
    "        temp.append(original[add][j + add])\n",
    "        add += 1\n",
    "    ul_dr.append(temp)\n",
    "\n",
    "dr_ul = [tmp_list[::-1] for tmp_list in ul_dr]\n",
    "\n",
    "ur_dl = []\n",
    "for i in range(len(original)):\n",
    "    temp = []\n",
    "    add = 0\n",
    "    while i - add >= 0 and add < len(original[0]):\n",
    "        temp.append(original[i - add][add])\n",
    "        add += 1\n",
    "    ur_dl.append(temp)\n",
    "for j in range(1, len(original[0])):\n",
    "    temp = []\n",
    "    add = 0\n",
    "    init = len(original) - 1\n",
    "    while init - add >= 0 and j + add < len(original[0]):\n",
    "        temp.append(original[init - add][j + add])\n",
    "        add += 1\n",
    "    ur_dl.append(temp)\n",
    "dl_ur = [tmp_list[::-1] for tmp_list in ur_dl]"
   ],
   "id": "d279ebf276dd796",
   "outputs": [],
   "execution_count": 81
  },
  {
   "metadata": {
    "ExecuteTime": {
     "end_time": "2024-12-14T10:18:17.136295Z",
     "start_time": "2024-12-14T10:18:17.087453Z"
    }
   },
   "cell_type": "code",
   "source": [
    "tot = [ul_dr,\n",
    "       dr_ul,\n",
    "       top_down,\n",
    "       down_top,\n",
    "       right_left,\n",
    "       left_right,\n",
    "       dl_ur,\n",
    "       ur_dl]\n",
    "\n",
    "top_num = 0\n",
    "for l in tot:\n",
    "    formated_l = [\"\".join(tmp) for tmp in l]\n",
    "    top_num += sum(len(re.findall(\"XMAS\", formated_l[i])) for i in range(len(formated_l)))\n",
    "top_num"
   ],
   "id": "5cfbbfd9f24c547c",
   "outputs": [
    {
     "data": {
      "text/plain": [
       "2401"
      ]
     },
     "execution_count": 82,
     "metadata": {},
     "output_type": "execute_result"
    }
   ],
   "execution_count": 82
  },
  {
   "metadata": {},
   "cell_type": "markdown",
   "source": [
    "\n",
    "2"
   ],
   "id": "24490dd83da1eb54"
  },
  {
   "metadata": {
    "ExecuteTime": {
     "end_time": "2024-12-14T10:21:29.443915Z",
     "start_time": "2024-12-14T10:21:29.135912Z"
    }
   },
   "cell_type": "code",
   "source": "import numpy as np",
   "id": "8736c443b9f52c22",
   "outputs": [],
   "execution_count": 86
  },
  {
   "metadata": {
    "ExecuteTime": {
     "end_time": "2024-12-14T10:35:31.808590Z",
     "start_time": "2024-12-14T10:35:31.795565Z"
    }
   },
   "cell_type": "code",
   "source": [
    "with open(\"4_input.txt\", \"r\") as f:\n",
    "    original = [list(tmp) for tmp in f.read().splitlines()]\n",
    "mat = np.matrix(original)"
   ],
   "id": "ee848a55211ed8c5",
   "outputs": [],
   "execution_count": 134
  },
  {
   "metadata": {
    "ExecuteTime": {
     "end_time": "2024-12-14T10:35:35.424020Z",
     "start_time": "2024-12-14T10:35:35.381433Z"
    }
   },
   "cell_type": "code",
   "source": [
    "def check_solution(mat: np.matrix):\n",
    "    diag = \"\".join(mat.diagonal().tolist()[0])\n",
    "    anti_diag = \"\".join(np.fliplr(mat).diagonal().tolist()[0])\n",
    "    if diag != \"MAS\" and diag != \"SAM\":\n",
    "        return False\n",
    "    if anti_diag != \"MAS\" and anti_diag != \"SAM\":\n",
    "        return False\n",
    "    return True"
   ],
   "id": "beb45778fd287a27",
   "outputs": [],
   "execution_count": 135
  },
  {
   "metadata": {
    "ExecuteTime": {
     "end_time": "2024-12-14T10:35:42.187749Z",
     "start_time": "2024-12-14T10:35:42.020646Z"
    }
   },
   "cell_type": "code",
   "source": [
    "tot=0\n",
    "for i in range(mat.shape[0]-2):\n",
    "    for j in range(mat.shape[1]-2):\n",
    "        if check_solution(mat[i:i+3, j:j+3]):\n",
    "            tot +=1\n",
    "tot"
   ],
   "id": "8773d82fc4a8a0d",
   "outputs": [
    {
     "data": {
      "text/plain": [
       "1822"
      ]
     },
     "execution_count": 136,
     "metadata": {},
     "output_type": "execute_result"
    }
   ],
   "execution_count": 136
  },
  {
   "metadata": {
    "ExecuteTime": {
     "end_time": "2024-12-14T10:30:31.825075Z",
     "start_time": "2024-12-14T10:30:31.792494Z"
    }
   },
   "cell_type": "code",
   "source": "np.fliplr().diagonal()",
   "id": "9cd26e3509f15a33",
   "outputs": [
    {
     "data": {
      "text/plain": [
       "matrix([[3, 2, 1]])"
      ]
     },
     "execution_count": 118,
     "metadata": {},
     "output_type": "execute_result"
    }
   ],
   "execution_count": 118
  },
  {
   "metadata": {
    "ExecuteTime": {
     "end_time": "2024-12-14T10:24:41.048317Z",
     "start_time": "2024-12-14T10:24:41.031102Z"
    }
   },
   "cell_type": "code",
   "source": [
    "\n",
    "mat.shape[0]"
   ],
   "id": "d22b13a26b1f9b5",
   "outputs": [
    {
     "data": {
      "text/plain": [
       "140"
      ]
     },
     "execution_count": 103,
     "metadata": {},
     "output_type": "execute_result"
    }
   ],
   "execution_count": 103
  },
  {
   "metadata": {
    "ExecuteTime": {
     "end_time": "2024-12-14T10:23:29.258640Z",
     "start_time": "2024-12-14T10:23:29.226059Z"
    }
   },
   "cell_type": "code",
   "source": "print(mat[i:3, j:3])\n",
   "id": "b253d27fbdc394e4",
   "outputs": [
    {
     "data": {
      "text/plain": [
       "(140, 140)"
      ]
     },
     "execution_count": 101,
     "metadata": {},
     "output_type": "execute_result"
    }
   ],
   "execution_count": 101
  }
 ],
 "metadata": {
  "kernelspec": {
   "display_name": "Python 3",
   "language": "python",
   "name": "python3"
  },
  "language_info": {
   "codemirror_mode": {
    "name": "ipython",
    "version": 2
   },
   "file_extension": ".py",
   "mimetype": "text/x-python",
   "name": "python",
   "nbconvert_exporter": "python",
   "pygments_lexer": "ipython2",
   "version": "2.7.6"
  }
 },
 "nbformat": 4,
 "nbformat_minor": 5
}
