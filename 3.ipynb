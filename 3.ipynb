{
 "cells": [
  {
   "metadata": {
    "ExecuteTime": {
     "end_time": "2024-12-13T16:53:20.836803Z",
     "start_time": "2024-12-13T16:53:20.801368Z"
    }
   },
   "cell_type": "code",
   "source": "import re",
   "id": "f8dbf088d01c7d93",
   "outputs": [],
   "execution_count": 2
  },
  {
   "cell_type": "code",
   "id": "initial_id",
   "metadata": {
    "collapsed": true,
    "ExecuteTime": {
     "end_time": "2024-12-13T16:53:23.966436Z",
     "start_time": "2024-12-13T16:53:23.950838Z"
    }
   },
   "source": "test = \";+mul(924,355)mul(492,757) wha\"",
   "outputs": [],
   "execution_count": 3
  },
  {
   "metadata": {
    "ExecuteTime": {
     "end_time": "2024-12-13T17:17:29.933374Z",
     "start_time": "2024-12-13T17:17:29.918423Z"
    }
   },
   "cell_type": "code",
   "source": [
    "with open(\"3_1_input.txt\", \"r\") as f:\n",
    "    lines= f.read()\n",
    "    temp=re.findall(\"mul\\([0-9]{1,3},[0-9]{1,3}\\)\", lines)\n",
    "somme = 0\n",
    "values = [el[4:-1].split(\",\") for el in temp]\n",
    "for value in values:\n",
    "    somme += int(value[0])*int(value[1])\n",
    "somme"
   ],
   "id": "b3ec4c3d536c72d1",
   "outputs": [
    {
     "data": {
      "text/plain": [
       "159833790"
      ]
     },
     "execution_count": 57,
     "metadata": {},
     "output_type": "execute_result"
    }
   ],
   "execution_count": 57
  },
  {
   "metadata": {
    "ExecuteTime": {
     "end_time": "2024-12-13T17:29:11.509597Z",
     "start_time": "2024-12-13T17:28:45.654394Z"
    }
   },
   "cell_type": "code",
   "source": [
    "with open(\"3_1_input.txt\", \"r\") as f:\n",
    "    lines= f.read()\n",
    "    temp=re.findall(r\"(mul\\([0-9]{1,3},[0-9]{1,3}\\))|(don\\'t\\(\\))|(do\\(\\))\", lines)\n",
    "\n",
    "somme = 0\n",
    "enabled = True\n",
    "for elt in temp:\n",
    "    if elt[1] != \"\":\n",
    "        enabled = False\n",
    "        continue\n",
    "    if elt[2] != \"\":\n",
    "        enabled = True\n",
    "        continue\n",
    "    if enabled:\n",
    "        values = elt[0][4:-1].split(\",\")\n",
    "        somme += int(values[0])*int(values[1])\n",
    "somme"
   ],
   "id": "5f971ae011448ef3",
   "outputs": [
    {
     "data": {
      "text/plain": [
       "89349241"
      ]
     },
     "execution_count": 70,
     "metadata": {},
     "output_type": "execute_result"
    }
   ],
   "execution_count": 70
  }
 ],
 "metadata": {
  "kernelspec": {
   "display_name": "Python 3",
   "language": "python",
   "name": "python3"
  },
  "language_info": {
   "codemirror_mode": {
    "name": "ipython",
    "version": 2
   },
   "file_extension": ".py",
   "mimetype": "text/x-python",
   "name": "python",
   "nbconvert_exporter": "python",
   "pygments_lexer": "ipython2",
   "version": "2.7.6"
  }
 },
 "nbformat": 4,
 "nbformat_minor": 5
}
