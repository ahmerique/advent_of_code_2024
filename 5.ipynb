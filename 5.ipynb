{
 "cells": [
  {
   "cell_type": "code",
   "id": "initial_id",
   "metadata": {
    "collapsed": true,
    "ExecuteTime": {
     "end_time": "2024-12-16T14:07:22.367389Z",
     "start_time": "2024-12-16T14:07:22.347077Z"
    }
   },
   "source": [
    "with open(\"5_in.txt\", \"r\") as f:\n",
    "    lines = [i.split(\",\") for i in f.read().splitlines()]\n",
    "\n",
    "with open(\"5_rules.txt\", \"r\") as f:\n",
    "    RULES = [i.split(\"|\") for i in f.read().splitlines()]"
   ],
   "outputs": [],
   "execution_count": 81
  },
  {
   "metadata": {
    "ExecuteTime": {
     "end_time": "2024-12-16T13:54:23.768117Z",
     "start_time": "2024-12-16T13:54:23.750261Z"
    }
   },
   "cell_type": "code",
   "source": [
    "with open(\"1_5_in.txt\", \"r\") as f:\n",
    "    lines = [i.split(\",\") for i in f.read().splitlines()]\n",
    "\n",
    "with open(\"1_5_rules.txt\", \"r\") as f:\n",
    "    RULES = [i.split(\"|\") for i in f.read().splitlines()]"
   ],
   "id": "14f7af9a00de4299",
   "outputs": [],
   "execution_count": 68
  },
  {
   "metadata": {
    "ExecuteTime": {
     "end_time": "2024-12-16T14:07:23.325542Z",
     "start_time": "2024-12-16T14:07:23.307299Z"
    }
   },
   "cell_type": "code",
   "source": [
    "def get_linked_rules(line):\n",
    "    return [rule for rule in RULES if all(i_rule in line for i_rule in rule)]\n",
    "\n",
    "\n",
    "def is_line_correct(line):\n",
    "    pos = {num: idx for idx, num in enumerate(line)}\n",
    "    l_rules = get_linked_rules(line)\n",
    "    for [inf,sup] in l_rules:\n",
    "        position_inf=pos.get(inf)\n",
    "        position_sup = pos.get(sup)\n",
    "        if position_inf is not None and position_sup is not None and position_inf>position_sup:\n",
    "            return False\n",
    "    return True\n",
    "\n",
    "def reorder_bad_lines(og_line):\n",
    "    line = og_line.copy()\n",
    "    is_correct = False\n",
    "    l_rules = get_linked_rules(line)\n",
    "    while not is_correct:\n",
    "        breakloop=False\n",
    "        pos = {num: idx for idx, num in enumerate(line)}\n",
    "\n",
    "        for [inf,sup] in l_rules:\n",
    "            position_inf=pos.get(inf)\n",
    "            position_sup = pos.get(sup)\n",
    "            if position_inf is not None and position_sup is not None and position_inf>position_sup:\n",
    "                line[position_inf], line[position_sup] = line[position_sup], line[position_inf]\n",
    "                breakloop=True\n",
    "                break\n",
    "\n",
    "        if breakloop:\n",
    "            continue\n",
    "        is_correct=True\n",
    "    return line\n"
   ],
   "id": "826000e193dac30b",
   "outputs": [],
   "execution_count": 82
  },
  {
   "metadata": {
    "ExecuteTime": {
     "end_time": "2024-12-16T14:07:24.515594Z",
     "start_time": "2024-12-16T14:07:24.298740Z"
    }
   },
   "cell_type": "code",
   "source": [
    "#2\n",
    "bad_lines = [line for line in lines if not is_line_correct(line)]\n",
    "\n",
    "corrected_lines = [reorder_bad_lines(line) for line in bad_lines]\n",
    "tot = 0\n",
    "for line in corrected_lines:\n",
    "    tot+=int(line[int(len(line)/2)])\n",
    "\n",
    "tot"
   ],
   "id": "89f35cdab9949d52",
   "outputs": [
    {
     "data": {
      "text/plain": [
       "5184"
      ]
     },
     "execution_count": 83,
     "metadata": {},
     "output_type": "execute_result"
    }
   ],
   "execution_count": 83
  },
  {
   "metadata": {
    "ExecuteTime": {
     "end_time": "2024-12-16T13:31:29.573272Z",
     "start_time": "2024-12-16T13:31:29.426956Z"
    }
   },
   "cell_type": "code",
   "source": [
    "#1\n",
    "correct_lines = [line for line in lines if is_line_correct(line)]\n",
    "\n",
    "tot = 0\n",
    "for line in correct_lines:\n",
    "    tot+=int(line[int(len(line)/2)])\n",
    "\n",
    "tot"
   ],
   "id": "afb619c9470bb2d9",
   "outputs": [
    {
     "data": {
      "text/plain": [
       "6267"
      ]
     },
     "execution_count": 64,
     "metadata": {},
     "output_type": "execute_result"
    }
   ],
   "execution_count": 64
  },
  {
   "metadata": {},
   "cell_type": "code",
   "outputs": [],
   "execution_count": null,
   "source": "",
   "id": "e470d4d275723e1b"
  }
 ],
 "metadata": {
  "kernelspec": {
   "display_name": "Python 3",
   "language": "python",
   "name": "python3"
  },
  "language_info": {
   "codemirror_mode": {
    "name": "ipython",
    "version": 2
   },
   "file_extension": ".py",
   "mimetype": "text/x-python",
   "name": "python",
   "nbconvert_exporter": "python",
   "pygments_lexer": "ipython2",
   "version": "2.7.6"
  }
 },
 "nbformat": 4,
 "nbformat_minor": 5
}
