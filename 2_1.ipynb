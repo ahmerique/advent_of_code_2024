{
 "cells": [
  {
   "cell_type": "code",
   "id": "c366b180-a7b0-4bf9-b482-88c197bdb64a",
   "metadata": {
    "ExecuteTime": {
     "end_time": "2024-12-09T12:30:57.347311Z",
     "start_time": "2024-12-09T12:30:56.763171Z"
    }
   },
   "source": "import pandas as pd",
   "outputs": [],
   "execution_count": 1
  },
  {
   "metadata": {},
   "cell_type": "markdown",
   "source": "1",
   "id": "817cda40893eb652"
  },
  {
   "cell_type": "code",
   "id": "a713ad8b-04fe-45ec-ae50-034c31ea763a",
   "metadata": {
    "ExecuteTime": {
     "end_time": "2024-12-09T12:50:35.116223Z",
     "start_time": "2024-12-09T12:50:35.084331Z"
    }
   },
   "source": [
    "def check_value(to_list, idx, value):\n",
    "    temp = abs(value-to_list[idx+1])\n",
    "    return 1 <= temp <= 3\n",
    "\n",
    "\n",
    "solution = 0\n",
    "with open(\"2_1_input.txt\", \"r\") as f:\n",
    "    for line in f.read().splitlines() :\n",
    "        to_list = [int(value) for value in line.split(\" \")]\n",
    "        # print(to_list)\n",
    "        if not all([check_value(to_list, idx, value) for idx, value in enumerate(to_list) if idx != len(to_list)-1]):\n",
    "            continue\n",
    "        if sorted(to_list) != to_list and sorted(to_list, reverse=True) != to_list:\n",
    "            continue\n",
    "\n",
    "        solution +=1\n",
    "\n",
    "    print(solution)"
   ],
   "outputs": [
    {
     "name": "stdout",
     "output_type": "stream",
     "text": [
      "534\n"
     ]
    }
   ],
   "execution_count": 15
  },
  {
   "metadata": {},
   "cell_type": "markdown",
   "source": "2",
   "id": "492a0ce0baafe2f3"
  },
  {
   "metadata": {
    "ExecuteTime": {
     "end_time": "2024-12-11T09:27:44.127531Z",
     "start_time": "2024-12-11T09:27:44.111949Z"
    }
   },
   "cell_type": "code",
   "outputs": [
    {
     "name": "stdout",
     "output_type": "stream",
     "text": [
      "577\n"
     ]
    }
   ],
   "execution_count": 12,
   "source": [
    "def check_value(to_list, idx, value):\n",
    "    temp = abs(value-to_list[idx+1])\n",
    "    return 1 <= temp <= 3\n",
    "\n",
    "\n",
    "solution = 0\n",
    "with open(\"2_1_input.txt\", \"r\") as f:\n",
    "    for line in f.read().splitlines() :\n",
    "        initial_list = [int(value) for value in line.split(\" \")]\n",
    "        generated_lists = [initial_list[:i] + initial_list[i+1:] for i in range(len(initial_list))]\n",
    "        is_ok = False\n",
    "        for to_list in generated_lists:\n",
    "            if not all([check_value(to_list, idx, value) for idx, value in enumerate(to_list) if idx != len(to_list)-1]):\n",
    "                continue\n",
    "            if sorted(to_list) != to_list and sorted(to_list, reverse=True) != to_list:\n",
    "                continue\n",
    "\n",
    "            is_ok=True\n",
    "            break\n",
    "\n",
    "        if is_ok:\n",
    "            solution+=1\n",
    "\n",
    "\n",
    "    print(solution)"
   ],
   "id": "f90ec2f80394cda6"
  }
 ],
 "metadata": {
  "kernelspec": {
   "display_name": "Python 3 (ipykernel)",
   "language": "python",
   "name": "python3"
  },
  "language_info": {
   "codemirror_mode": {
    "name": "ipython",
    "version": 3
   },
   "file_extension": ".py",
   "mimetype": "text/x-python",
   "name": "python",
   "nbconvert_exporter": "python",
   "pygments_lexer": "ipython3",
   "version": "3.12.3"
  }
 },
 "nbformat": 4,
 "nbformat_minor": 5
}
