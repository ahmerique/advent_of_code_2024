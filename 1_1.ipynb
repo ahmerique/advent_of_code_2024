{
 "cells": [
  {
   "cell_type": "code",
   "id": "c366b180-a7b0-4bf9-b482-88c197bdb64a",
   "metadata": {
    "ExecuteTime": {
     "end_time": "2024-12-04T10:10:46.089684Z",
     "start_time": "2024-12-04T10:10:45.767548Z"
    }
   },
   "source": [
    "import pandas as pd"
   ],
   "outputs": [],
   "execution_count": 1
  },
  {
   "cell_type": "code",
   "id": "a713ad8b-04fe-45ec-ae50-034c31ea763a",
   "metadata": {
    "ExecuteTime": {
     "end_time": "2024-12-04T10:12:38.572664Z",
     "start_time": "2024-12-04T10:12:38.545213Z"
    }
   },
   "source": "df = pd.read_csv(\"1_1_input.csv\", sep=\"   \", engine=\"python\", header=None)",
   "outputs": [],
   "execution_count": 5
  },
  {
   "metadata": {
    "ExecuteTime": {
     "end_time": "2024-12-04T10:29:43.069566Z",
     "start_time": "2024-12-04T10:29:43.046651Z"
    }
   },
   "cell_type": "code",
   "source": [
    "df[0] = df[0].sort_values().values\n",
    "df[1] = df[1].sort_values().values\n",
    "\n",
    "abs(df[1]-df[0]).sum()"
   ],
   "id": "25920cfeb7893634",
   "outputs": [
    {
     "data": {
      "text/plain": [
       "np.int64(2000468)"
      ]
     },
     "execution_count": 36,
     "metadata": {},
     "output_type": "execute_result"
    }
   ],
   "execution_count": 36
  },
  {
   "metadata": {
    "ExecuteTime": {
     "end_time": "2024-12-04T10:29:44.617650Z",
     "start_time": "2024-12-04T10:29:44.595343Z"
    }
   },
   "cell_type": "code",
   "source": [
    "left_count = df[0].value_counts()\n",
    "count_dict = df[1].value_counts().to_dict()\n",
    "\n",
    "sum([key*value*count_dict.get(key,0) for key, value in left_count.items()])"
   ],
   "id": "d37381258cb5f9ac",
   "outputs": [
    {
     "data": {
      "text/plain": [
       "18567089"
      ]
     },
     "execution_count": 37,
     "metadata": {},
     "output_type": "execute_result"
    }
   ],
   "execution_count": 37
  }
 ],
 "metadata": {
  "kernelspec": {
   "display_name": "Python 3 (ipykernel)",
   "language": "python",
   "name": "python3"
  },
  "language_info": {
   "codemirror_mode": {
    "name": "ipython",
    "version": 3
   },
   "file_extension": ".py",
   "mimetype": "text/x-python",
   "name": "python",
   "nbconvert_exporter": "python",
   "pygments_lexer": "ipython3",
   "version": "3.12.3"
  }
 },
 "nbformat": 4,
 "nbformat_minor": 5
}
